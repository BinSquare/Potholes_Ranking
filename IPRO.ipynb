{
 "cells": [
  {
   "cell_type": "code",
   "execution_count": 3,
   "metadata": {
    "collapsed": true
   },
   "outputs": [],
   "source": [
    "import pandas as pd\n",
    "import numpy as np"
   ]
  },
  {
   "cell_type": "code",
   "execution_count": 33,
   "metadata": {},
   "outputs": [],
   "source": [
    "#generate Synthatic Data\n",
    "df2 = pd.DataFrame(np.random.rand(100, 4)*5,\n",
    "                   columns=['width', 'length', 'depth', 'Traffic Density'])\n",
    "df2['Traffic Density'] = np.random.rand(100,4)*2000// 1\n",
    "#save generic data to csv file\n",
    "df2.to_csv('Synthatic_Data.csv',sep=',',header=True,index=False)"
   ]
  },
  {
   "cell_type": "code",
   "execution_count": 51,
   "metadata": {},
   "outputs": [],
   "source": [
    "#load data from csv file\n",
    "data = pd.read_csv('Synthatic_Data.csv',index_col=False)\n",
    "data.drop_duplicates(inplace=True)"
   ]
  },
  {
   "cell_type": "code",
   "execution_count": 73,
   "metadata": {},
   "outputs": [],
   "source": [
    "#this is mock algorithmm we probably gotta redefine it.\n",
    "def the_almighty_algorithm(row):\n",
    "    res = 5*row['width']+0.3*row['length']+ 20*row['depth']+np.log(row['Traffic Density'])\n",
    "    return res"
   ]
  },
  {
   "cell_type": "code",
   "execution_count": 74,
   "metadata": {},
   "outputs": [],
   "source": [
    "#apply algorithm on data\n",
    "data['score'] = data.apply(lambda row: the_almighty_algorithm(row), axis=1)"
   ]
  },
  {
   "cell_type": "code",
   "execution_count": 75,
   "metadata": {},
   "outputs": [
    {
     "name": "stdout",
     "output_type": "stream",
     "text": [
      "       width    length     depth  Traffic Density       score\n",
      "5   4.537057  3.850043  4.694899           1992.0  125.335169\n",
      "24  4.443270  1.357177  4.716134            136.0  121.858838\n",
      "52  3.042406  4.017748  4.849572           1281.0  120.564187\n",
      "69  3.373578  2.116670  4.796306            916.0  120.249026\n",
      "90  4.281845  0.104379  4.408139           1568.0  116.960879\n"
     ]
    }
   ],
   "source": [
    "#rank the data based on score by algorithm\n",
    "print(data.sort_values(by ='score',axis=0,ascending=False).head())"
   ]
  }
 ],
 "metadata": {
  "kernelspec": {
   "display_name": "Python 3",
   "language": "python",
   "name": "python3"
  },
  "language_info": {
   "codemirror_mode": {
    "name": "ipython",
    "version": 3
   },
   "file_extension": ".py",
   "mimetype": "text/x-python",
   "name": "python",
   "nbconvert_exporter": "python",
   "pygments_lexer": "ipython3",
   "version": "3.6.1"
  }
 },
 "nbformat": 4,
 "nbformat_minor": 2
}
